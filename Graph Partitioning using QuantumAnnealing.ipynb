{
 "cells": [
  {
   "cell_type": "code",
   "execution_count": null,
   "id": "7fa76df9",
   "metadata": {},
   "outputs": [],
   "source": [
    "\n",
    "# ------ Import necessary packages ----\n",
    "import networkx as nx\n",
    "from collections import defaultdict\n",
    "from itertools import combinations\n",
    "from dwave.system.samplers import DWaveSampler\n",
    "from dwave.system.composites import EmbeddingComposite\n",
    "import math\n",
    "\n",
    "# ------- Set tunable parameters -------\n",
    "num_reads = 1000\n",
    "gamma = 80\n",
    "\n",
    "# ------- Set up our graph -------\n",
    "G = nx.gnp_random_graph(40, 0.3)\n",
    "\n",
    "print(\"Graph on {} nodes created with {} out of {} possible edges.\".format(len(G.nodes), len(G.edges), len(G.nodes) * (len(G.nodes)-1) / 2))\n",
    "\n",
    "# ------- Set up our QUBO dictionary -------\n",
    "\n",
    "# Initialize our Q matrix\n",
    "Q = defaultdict(int)\n",
    "\n",
    "# Fill in Q matrix\n",
    "for u, v in G.edges:\n",
    "    Q[(u,u)] += 1\n",
    "    Q[(v,v)] += 1\n",
    "    Q[(u,v)] += -2\n",
    "\n",
    "for i in G.nodes:\n",
    "    Q[(i,i)] += gamma*(1-len(G.nodes))\n",
    "\n",
    "for i, j in combinations(G.nodes, 2):\n",
    "\tQ[(i,j)] += 2*gamma\n",
    "\n",
    "# ------- Run our QUBO on the QPU -------\n",
    "\n",
    "# Set chain strength\n",
    "chain_strength = gamma*len(G.nodes)\n",
    "\n",
    "# Run the QUBO on the solver from your config file\n",
    "sampler = EmbeddingComposite(DWaveSampler())\n",
    "response = sampler.sample_qubo(Q,\n",
    "                               chain_strength=chain_strength,\n",
    "                               num_reads=num_reads,\n",
    "                               label='Example - Graph Partitioning')\n",
    "\n",
    "# See if the best solution found is feasible, and if so print the number of cut edges.\n",
    "sample = response.record.sample[0]\n",
    "\n",
    "# In the case when n is odd, the set may have one more or one fewer nodes\n",
    "if sum(sample) in [math.floor(len(G.nodes)/2), math.ceil(len(G.nodes)/2)]:\n",
    "    num_cut_edges = 0\n",
    "    for u, v in G.edges:\n",
    "        num_cut_edges += sample[u] + sample[v] - 2*sample[u]*sample[v]\n",
    "    print(\"Valid partition found with\", num_cut_edges, \"cut edges.\")\n",
    "else:\n",
    "    print(\"Invalid partition.\")\n"
   ]
  },
  {
   "cell_type": "code",
   "execution_count": 2,
   "id": "4909700a",
   "metadata": {},
   "outputs": [
    {
     "name": "stdout",
     "output_type": "stream",
     "text": [
      "Collecting networkx\n",
      "  Downloading networkx-3.2.1-py3-none-any.whl (1.6 MB)\n",
      "     ---------------------------------------- 1.6/1.6 MB 1.4 MB/s eta 0:00:00\n",
      "Installing collected packages: networkx\n",
      "Successfully installed networkx-3.2.1\n",
      "Note: you may need to restart the kernel to use updated packages.\n"
     ]
    },
    {
     "name": "stderr",
     "output_type": "stream",
     "text": [
      "WARNING: There was an error checking the latest version of pip.\n"
     ]
    }
   ],
   "source": [
    "pip install networkx"
   ]
  },
  {
   "cell_type": "code",
   "execution_count": 1,
   "id": "f859238d",
   "metadata": {},
   "outputs": [],
   "source": [
    "# ------ Import necessary packages ----\n",
    "import networkx as nx\n",
    "from collections import defaultdict\n",
    "from itertools import combinations\n",
    "#from dwave.system.samplers import DWaveSampler\n",
    "#from dwave.system.composites import EmbeddingComposite\n",
    "import math\n",
    "import matplotlib.pyplot as plt\n",
    "import scipy.sparse\n",
    "from scipy.linalg import block_diag\n",
    "import numpy as np\n"
   ]
  },
  {
   "cell_type": "code",
   "execution_count": 39,
   "id": "5f4cbae2",
   "metadata": {},
   "outputs": [],
   "source": [
    "Graph=nx.gnp_random_graph(10,0.3)\n"
   ]
  },
  {
   "cell_type": "code",
   "execution_count": 41,
   "id": "21142696",
   "metadata": {},
   "outputs": [
    {
     "data": {
      "image/png": "[encoded data removed]",
      "text/plain": [
       "<Figure size 432x288 with 1 Axes>"
      ]
     },
     "metadata": {},
     "output_type": "display_data"
    }
   ],
   "source": [
    "nx.draw(Graph)"
   ]
  },
  {
   "cell_type": "code",
   "execution_count": 42,
   "id": "c770e102",
   "metadata": {},
   "outputs": [],
   "source": [
    "#k refers to the number of clusters we wish to obtain\n",
    "k=2\n",
    "#n refers to the number of nodes in the graph\n",
    "n=Graph.number_of_nodes()\n",
    "#m refers to the factor-n/k times which gives the maximum size of the partition we're looking for\n",
    "m=1 \n"
   ]
  },
  {
   "cell_type": "code",
   "execution_count": 27,
   "id": "0f7035d1",
   "metadata": {},
   "outputs": [],
   "source": [
    "#the weight given to the Lagrangian objective term\n",
    "b=1\n",
    "#fetching the laplacian matrix l=d-a from the graph object\n",
    "l=nx.laplacian_matrix(Graph).toarray()\n",
    "#L matrix is the block diagonal matrix of the laplacian matrices\n",
    "L_diag=np.array([l for i in range(k)])\n",
    "L=block_diag(*L_diag)\n",
    "first_term=b*L"
   ]
  },
  {
   "cell_type": "code",
   "execution_count": 26,
   "id": "889adde9",
   "metadata": {
    "collapsed": true
   },
   "outputs": [
    {
     "data": {
      "text/plain": [
       "array([[ 5, -1, -1, -1, -1,  0,  0,  0, -1,  0,  0,  0,  0,  0,  0,  0,\n",
       "         0,  0,  0,  0],\n",
       "       [-1,  2, -1,  0,  0,  0,  0,  0,  0,  0,  0,  0,  0,  0,  0,  0,\n",
       "         0,  0,  0,  0],\n",
       "       [-1, -1,  3,  0,  0,  0,  0,  0,  0, -1,  0,  0,  0,  0,  0,  0,\n",
       "         0,  0,  0,  0],\n",
       "       [-1,  0,  0,  2,  0,  0, -1,  0,  0,  0,  0,  0,  0,  0,  0,  0,\n",
       "         0,  0,  0,  0],\n",
       "       [-1,  0,  0,  0,  2, -1,  0,  0,  0,  0,  0,  0,  0,  0,  0,  0,\n",
       "         0,  0,  0,  0],\n",
       "       [ 0,  0,  0,  0, -1,  4, -1, -1, -1,  0,  0,  0,  0,  0,  0,  0,\n",
       "         0,  0,  0,  0],\n",
       "       [ 0,  0,  0, -1,  0, -1,  3,  0,  0, -1,  0,  0,  0,  0,  0,  0,\n",
       "         0,  0,  0,  0],\n",
       "       [ 0,  0,  0,  0,  0, -1,  0,  2, -1,  0,  0,  0,  0,  0,  0,  0,\n",
       "         0,  0,  0,  0],\n",
       "       [-1,  0,  0,  0,  0, -1,  0, -1,  3,  0,  0,  0,  0,  0,  0,  0,\n",
       "         0,  0,  0,  0],\n",
       "       [ 0,  0, -1,  0,  0,  0, -1,  0,  0,  2,  0,  0,  0,  0,  0,  0,\n",
       "         0,  0,  0,  0],\n",
       "       [ 0,  0,  0,  0,  0,  0,  0,  0,  0,  0,  5, -1, -1, -1, -1,  0,\n",
       "         0,  0, -1,  0],\n",
       "       [ 0,  0,  0,  0,  0,  0,  0,  0,  0,  0, -1,  2, -1,  0,  0,  0,\n",
       "         0,  0,  0,  0],\n",
       "       [ 0,  0,  0,  0,  0,  0,  0,  0,  0,  0, -1, -1,  3,  0,  0,  0,\n",
       "         0,  0,  0, -1],\n",
       "       [ 0,  0,  0,  0,  0,  0,  0,  0,  0,  0, -1,  0,  0,  2,  0,  0,\n",
       "        -1,  0,  0,  0],\n",
       "       [ 0,  0,  0,  0,  0,  0,  0,  0,  0,  0, -1,  0,  0,  0,  2, -1,\n",
       "         0,  0,  0,  0],\n",
       "       [ 0,  0,  0,  0,  0,  0,  0,  0,  0,  0,  0,  0,  0,  0, -1,  4,\n",
       "        -1, -1, -1,  0],\n",
       "       [ 0,  0,  0,  0,  0,  0,  0,  0,  0,  0,  0,  0,  0, -1,  0, -1,\n",
       "         3,  0,  0, -1],\n",
       "       [ 0,  0,  0,  0,  0,  0,  0,  0,  0,  0,  0,  0,  0,  0,  0, -1,\n",
       "         0,  2, -1,  0],\n",
       "       [ 0,  0,  0,  0,  0,  0,  0,  0,  0,  0, -1,  0,  0,  0,  0, -1,\n",
       "         0, -1,  3,  0],\n",
       "       [ 0,  0,  0,  0,  0,  0,  0,  0,  0,  0,  0,  0, -1,  0,  0,  0,\n",
       "        -1,  0,  0,  2]], dtype=int32)"
      ]
     },
     "execution_count": 26,
     "metadata": {},
     "output_type": "execute_result"
    }
   ],
   "source": [
    "L"
   ]
  },
  {
   "cell_type": "code",
   "execution_count": 28,
   "id": "5730add1",
   "metadata": {},
   "outputs": [],
   "source": [
    "\n",
    "#the list of weights given to the Lagrangian's first constraint term\n",
    "a=[10 for x in range(k)]\n",
    "\n",
    "i=np.ones((n,n))\n",
    "aI_diag=np.array([i*a[j] for j in range(k)])\n",
    "aI=block_diag(*aI_diag) #X_{t}aIX\n",
    "\n",
    "identity=np.identity(n)\n",
    "aId_diag=np.array([identity*a[j] for j in range(k)])\n",
    "aId=block_diag(*aId_diag) #X_{t}aIdX\n",
    "\n",
    "second_term=aI-(2*int(n*m/k))*aId\n",
    "\n",
    "\n",
    "\n"
   ]
  },
  {
   "cell_type": "code",
   "execution_count": 31,
   "id": "ecafd9ac",
   "metadata": {
    "collapsed": true
   },
   "outputs": [
    {
     "data": {
      "text/plain": [
       "array([[-90.,  10.,  10.,  10.,  10.,  10.,  10.,  10.,  10.,  10.,   0.,\n",
       "          0.,   0.,   0.,   0.,   0.,   0.,   0.,   0.,   0.],\n",
       "       [ 10., -90.,  10.,  10.,  10.,  10.,  10.,  10.,  10.,  10.,   0.,\n",
       "          0.,   0.,   0.,   0.,   0.,   0.,   0.,   0.,   0.],\n",
       "       [ 10.,  10., -90.,  10.,  10.,  10.,  10.,  10.,  10.,  10.,   0.,\n",
       "          0.,   0.,   0.,   0.,   0.,   0.,   0.,   0.,   0.],\n",
       "       [ 10.,  10.,  10., -90.,  10.,  10.,  10.,  10.,  10.,  10.,   0.,\n",
       "          0.,   0.,   0.,   0.,   0.,   0.,   0.,   0.,   0.],\n",
       "       [ 10.,  10.,  10.,  10., -90.,  10.,  10.,  10.,  10.,  10.,   0.,\n",
       "          0.,   0.,   0.,   0.,   0.,   0.,   0.,   0.,   0.],\n",
       "       [ 10.,  10.,  10.,  10.,  10., -90.,  10.,  10.,  10.,  10.,   0.,\n",
       "          0.,   0.,   0.,   0.,   0.,   0.,   0.,   0.,   0.],\n",
       "       [ 10.,  10.,  10.,  10.,  10.,  10., -90.,  10.,  10.,  10.,   0.,\n",
       "          0.,   0.,   0.,   0.,   0.,   0.,   0.,   0.,   0.],\n",
       "       [ 10.,  10.,  10.,  10.,  10.,  10.,  10., -90.,  10.,  10.,   0.,\n",
       "          0.,   0.,   0.,   0.,   0.,   0.,   0.,   0.,   0.],\n",
       "       [ 10.,  10.,  10.,  10.,  10.,  10.,  10.,  10., -90.,  10.,   0.,\n",
       "          0.,   0.,   0.,   0.,   0.,   0.,   0.,   0.,   0.],\n",
       "       [ 10.,  10.,  10.,  10.,  10.,  10.,  10.,  10.,  10., -90.,   0.,\n",
       "          0.,   0.,   0.,   0.,   0.,   0.,   0.,   0.,   0.],\n",
       "       [  0.,   0.,   0.,   0.,   0.,   0.,   0.,   0.,   0.,   0., -90.,\n",
       "         10.,  10.,  10.,  10.,  10.,  10.,  10.,  10.,  10.],\n",
       "       [  0.,   0.,   0.,   0.,   0.,   0.,   0.,   0.,   0.,   0.,  10.,\n",
       "        -90.,  10.,  10.,  10.,  10.,  10.,  10.,  10.,  10.],\n",
       "       [  0.,   0.,   0.,   0.,   0.,   0.,   0.,   0.,   0.,   0.,  10.,\n",
       "         10., -90.,  10.,  10.,  10.,  10.,  10.,  10.,  10.],\n",
       "       [  0.,   0.,   0.,   0.,   0.,   0.,   0.,   0.,   0.,   0.,  10.,\n",
       "         10.,  10., -90.,  10.,  10.,  10.,  10.,  10.,  10.],\n",
       "       [  0.,   0.,   0.,   0.,   0.,   0.,   0.,   0.,   0.,   0.,  10.,\n",
       "         10.,  10.,  10., -90.,  10.,  10.,  10.,  10.,  10.],\n",
       "       [  0.,   0.,   0.,   0.,   0.,   0.,   0.,   0.,   0.,   0.,  10.,\n",
       "         10.,  10.,  10.,  10., -90.,  10.,  10.,  10.,  10.],\n",
       "       [  0.,   0.,   0.,   0.,   0.,   0.,   0.,   0.,   0.,   0.,  10.,\n",
       "         10.,  10.,  10.,  10.,  10., -90.,  10.,  10.,  10.],\n",
       "       [  0.,   0.,   0.,   0.,   0.,   0.,   0.,   0.,   0.,   0.,  10.,\n",
       "         10.,  10.,  10.,  10.,  10.,  10., -90.,  10.,  10.],\n",
       "       [  0.,   0.,   0.,   0.,   0.,   0.,   0.,   0.,   0.,   0.,  10.,\n",
       "         10.,  10.,  10.,  10.,  10.,  10.,  10., -90.,  10.],\n",
       "       [  0.,   0.,   0.,   0.,   0.,   0.,   0.,   0.,   0.,   0.,  10.,\n",
       "         10.,  10.,  10.,  10.,  10.,  10.,  10.,  10., -90.]])"
      ]
     },
     "execution_count": 31,
     "metadata": {},
     "output_type": "execute_result"
    }
   ],
   "source": [
    "second_term"
   ]
  },
  {
   "cell_type": "code",
   "execution_count": 32,
   "id": "d44b7fcc",
   "metadata": {},
   "outputs": [],
   "source": [
    "#the list of weights given to the Lagrangian's second constraint\n",
    "def create_z_matrix(i,nodes,segments):\n",
    "    diagonal_elements=[]\n",
    "    for j in range(nodes*segments):\n",
    "        if(int(j%nodes)+1==i):\n",
    "            diagonal_elements.append(1)\n",
    "        else:\n",
    "            diagonal_elements.append(0)\n",
    "    return np.diag(diagonal_elements)"
   ]
  },
  {
   "cell_type": "code",
   "execution_count": 33,
   "id": "e15413e1",
   "metadata": {},
   "outputs": [],
   "source": [
    "#the list of weights given to the Lagrangian's second constraint\n",
    "g=[10 for x in range(n)]\n",
    "#making the B matrix\n",
    "Z=[create_z_matrix(j,n,k) for j in range(1,n+1)]\n",
    "I=np.ones((n*k,n*k))\n",
    "B_=g[0]*np.matmul(np.matmul(Z[0],I),Z[0])\n",
    "for j in range(1,n):\n",
    "    B_=B_+g[j]*np.matmul(np.matmul(Z[j],I),Z[j])\n",
    "\n",
    "G=np.diag(np.concatenate([g for i in range(k)]))\n",
    "\n",
    "third_term=B_-2*G"
   ]
  },
  {
   "cell_type": "code",
   "execution_count": 37,
   "id": "97fe8da2",
   "metadata": {
    "collapsed": true
   },
   "outputs": [
    {
     "data": {
      "text/plain": [
       "array([[-10.,   0.,   0.,   0.,   0.,   0.,   0.,   0.,   0.,   0.,  10.,\n",
       "          0.,   0.,   0.,   0.,   0.,   0.,   0.,   0.,   0.],\n",
       "       [  0., -10.,   0.,   0.,   0.,   0.,   0.,   0.,   0.,   0.,   0.,\n",
       "         10.,   0.,   0.,   0.,   0.,   0.,   0.,   0.,   0.],\n",
       "       [  0.,   0., -10.,   0.,   0.,   0.,   0.,   0.,   0.,   0.,   0.,\n",
       "          0.,  10.,   0.,   0.,   0.,   0.,   0.,   0.,   0.],\n",
       "       [  0.,   0.,   0., -10.,   0.,   0.,   0.,   0.,   0.,   0.,   0.,\n",
       "          0.,   0.,  10.,   0.,   0.,   0.,   0.,   0.,   0.],\n",
       "       [  0.,   0.,   0.,   0., -10.,   0.,   0.,   0.,   0.,   0.,   0.,\n",
       "          0.,   0.,   0.,  10.,   0.,   0.,   0.,   0.,   0.],\n",
       "       [  0.,   0.,   0.,   0.,   0., -10.,   0.,   0.,   0.,   0.,   0.,\n",
       "          0.,   0.,   0.,   0.,  10.,   0.,   0.,   0.,   0.],\n",
       "       [  0.,   0.,   0.,   0.,   0.,   0., -10.,   0.,   0.,   0.,   0.,\n",
       "          0.,   0.,   0.,   0.,   0.,  10.,   0.,   0.,   0.],\n",
       "       [  0.,   0.,   0.,   0.,   0.,   0.,   0., -10.,   0.,   0.,   0.,\n",
       "          0.,   0.,   0.,   0.,   0.,   0.,  10.,   0.,   0.],\n",
       "       [  0.,   0.,   0.,   0.,   0.,   0.,   0.,   0., -10.,   0.,   0.,\n",
       "          0.,   0.,   0.,   0.,   0.,   0.,   0.,  10.,   0.],\n",
       "       [  0.,   0.,   0.,   0.,   0.,   0.,   0.,   0.,   0., -10.,   0.,\n",
       "          0.,   0.,   0.,   0.,   0.,   0.,   0.,   0.,  10.],\n",
       "       [ 10.,   0.,   0.,   0.,   0.,   0.,   0.,   0.,   0.,   0., -10.,\n",
       "          0.,   0.,   0.,   0.,   0.,   0.,   0.,   0.,   0.],\n",
       "       [  0.,  10.,   0.,   0.,   0.,   0.,   0.,   0.,   0.,   0.,   0.,\n",
       "        -10.,   0.,   0.,   0.,   0.,   0.,   0.,   0.,   0.],\n",
       "       [  0.,   0.,  10.,   0.,   0.,   0.,   0.,   0.,   0.,   0.,   0.,\n",
       "          0., -10.,   0.,   0.,   0.,   0.,   0.,   0.,   0.],\n",
       "       [  0.,   0.,   0.,  10.,   0.,   0.,   0.,   0.,   0.,   0.,   0.,\n",
       "          0.,   0., -10.,   0.,   0.,   0.,   0.,   0.,   0.],\n",
       "       [  0.,   0.,   0.,   0.,  10.,   0.,   0.,   0.,   0.,   0.,   0.,\n",
       "          0.,   0.,   0., -10.,   0.,   0.,   0.,   0.,   0.],\n",
       "       [  0.,   0.,   0.,   0.,   0.,  10.,   0.,   0.,   0.,   0.,   0.,\n",
       "          0.,   0.,   0.,   0., -10.,   0.,   0.,   0.,   0.],\n",
       "       [  0.,   0.,   0.,   0.,   0.,   0.,  10.,   0.,   0.,   0.,   0.,\n",
       "          0.,   0.,   0.,   0.,   0., -10.,   0.,   0.,   0.],\n",
       "       [  0.,   0.,   0.,   0.,   0.,   0.,   0.,  10.,   0.,   0.,   0.,\n",
       "          0.,   0.,   0.,   0.,   0.,   0., -10.,   0.,   0.],\n",
       "       [  0.,   0.,   0.,   0.,   0.,   0.,   0.,   0.,  10.,   0.,   0.,\n",
       "          0.,   0.,   0.,   0.,   0.,   0.,   0., -10.,   0.],\n",
       "       [  0.,   0.,   0.,   0.,   0.,   0.,   0.,   0.,   0.,  10.,   0.,\n",
       "          0.,   0.,   0.,   0.,   0.,   0.,   0.,   0., -10.]])"
      ]
     },
     "execution_count": 37,
     "metadata": {},
     "output_type": "execute_result"
    }
   ],
   "source": [
    "third_term"
   ]
  },
  {
   "cell_type": "code",
   "execution_count": null,
   "id": "0c948a9e",
   "metadata": {},
   "outputs": [],
   "source": [
    "#the labelling of nodes is important as our laplacian matrix uses this labelling "
   ]
  },
  {
   "cell_type": "code",
   "execution_count": null,
   "id": "1f59944f",
   "metadata": {},
   "outputs": [],
   "source": [
    "Q=first_term+second_term+third_term\n",
    "Q_dict={}\n",
    "for i in range(n*k):\n",
    "    for j in range(n*k):\n",
    "        Q_dict[(i,j)]=Q[i,j]"
   ]
  },
  {
   "cell_type": "code",
   "execution_count": null,
   "id": "a0273fb1",
   "metadata": {},
   "outputs": [],
   "source": [
    "# Run the QUBO on the solver from your config file\n",
    "sampler = EmbeddingComposite(DWaveSampler())\n",
    "response = sampler.sample_qubo(Q_dict,\n",
    "                               chain_strength=chain_strength,\n",
    "                               num_reads=num_reads,\n",
    "                               label='Example - Graph Partitioning')\n",
    "\n",
    "# See if the best solution found is feasible, and if so print the number of cut edges.\n",
    "sample = response.record.sample[0]"
   ]
  },
  {
   "cell_type": "code",
   "execution_count": null,
   "id": "0fc51471",
   "metadata": {},
   "outputs": [],
   "source": [
    "segment_colors=['red','green','blue','orange'] #we should put in as many colors as number of segments\n",
    "color_map=[]\n",
    "for node in G:\n",
    "    for j in range(k):\n",
    "        if sample[node+(j*n)]==1:\n",
    "            color_map.append(segment_colors[j])\n",
    "nx.draw(Graph,node_color=color_map,with_labels=True)\n",
    "plt.show()\n"
   ]
  },
  {
   "cell_type": "code",
   "execution_count": null,
   "id": "a1eafafb",
   "metadata": {},
   "outputs": [],
   "source": [
    "# Copyright 2019 D-Wave Systems, Inc.\n",
    "#\n",
    "# Licensed under the Apache License, Version 2.0 (the \"License\");\n",
    "# you may not use this file except in compliance with the License.\n",
    "# You may obtain a copy of the License at\n",
    "#\n",
    "#     http://www.apache.org/licenses/LICENSE-2.0\n",
    "#\n",
    "# Unless required by applicable law or agreed to in writing, software\n",
    "# distributed under the License is distributed on an \"AS IS\" BASIS,\n",
    "# WITHOUT WARRANTIES OR CONDITIONS OF ANY KIND, either express or implied.\n",
    "# See the License for the specific language governing permissions and\n",
    "# limitations under the License.\n",
    "\n",
    "# ------ Import necessary packages ----\n",
    "import networkx as nx\n",
    "import numpy as np \n",
    "import matplotlib.pyplot as plt \n",
    "from scipy.linalg import block_diag \n",
    "from scipy import sparse\n",
    "from collections import defaultdict\n",
    "from itertools import combinations\n",
    "from dwave.system.samplers import DWaveSampler\n",
    "from dwave.system.composites import EmbeddingComposite\n",
    "import math\n",
    "\n",
    "# ------- Set tunable parameters for the QUBO -------\n",
    "num_reads = 1000\n",
    "gamma = 80 #for adjusting the chain strength\n",
    "\n",
    "\n",
    "# ------- Set up our graph -------\n",
    "'''G = nx.gnp_random_graph(40, 0.3)'''\n",
    "Graph=nx.karate_club_graph()\n",
    "nx.draw(Graph,with_labels=True)\n",
    "plt.show()\n",
    "plt.savefig('input.png')\n",
    "plt.close()\n",
    " \n",
    "#------- Set problem parameters ----\n",
    "#k refers to the number of clusters we wish to obtain\n",
    "k=2\n",
    "#n refers to the number of nodes in the graph\n",
    "n=Graph.number_of_nodes()\n",
    "#m refers to the factor-n/k times which gives the maximum size of the partition we're looking for\n",
    "m=1 \n",
    "\n",
    "print(\"Graph on {} nodes created with {} out of {} possible edges.\".format(len(Graph.nodes), len(Graph.edges), len(Graph.nodes) * (len(Graph.nodes)-1) / 2))\n",
    "print(\"This is known as the karate club graph\")\n",
    "\n",
    "# ------- Set up our QUBO dictionary -------\n",
    "\n",
    "'''# Initialize our Q matrix\n",
    "Q = defaultdict(int)\n",
    "\n",
    "# Fill in Q matrix\n",
    "for u, v in G.edges:\n",
    "    Q[(u,u)] += 1\n",
    "    Q[(v,v)] += 1\n",
    "    Q[(u,v)] += -2\n",
    "\n",
    "for i in G.nodes:\n",
    "    Q[(i,i)] += gamma*(1-len(G.nodes))\n",
    "\n",
    "for i, j in combinations(G.nodes, 2):\n",
    "\tQ[(i,j)] += 2*gamma'''\n",
    "\n",
    "#the weight given to the Lagrangian objective term\n",
    "b=1\n",
    "#fetching the laplacian matrix l=d-a from the graph object\n",
    "l=nx.laplacian_matrix(Graph).toarray()\n",
    "#L matrix is the block diagonal matrix of the laplacian matrices\n",
    "L_diag=np.array([l for i in range(k)])\n",
    "L=block_diag(*L_diag)\n",
    "first_term=b*L\n",
    "\n",
    "#the list of weights given to the Lagrangian's first constraint term\n",
    "a=[10 for x in range(k)]\n",
    "i=np.ones((n,n))\n",
    "aI_diag=np.array([i*a[j] for j in range(k)])\n",
    "aI=block_diag(*aI_diag)               #X_{t}aIX\n",
    "identity=np.identity(n)\n",
    "aId_diag=np.array([identity*a[j] for j in range(k)])\n",
    "aId=block_diag(*aId_diag)             #X_{t}aIdX\n",
    "second_term=aI-(2*int(n*m/k))*aId\n",
    "\n",
    "#the list of weights given to the Lagrangian's second constraint\n",
    "def create_z_matrix(i,nodes,segments):\n",
    "    diagonal_elements=[]\n",
    "    for j in range(nodes*segments):\n",
    "        if(int(j%nodes)+1==i):\n",
    "            diagonal_elements.append(1)\n",
    "        else:\n",
    "            diagonal_elements.append(0)\n",
    "    return np.diag(diagonal_elements)\n",
    "\n",
    "#the list of weights given to the Lagrangian's second constraint\n",
    "g=[5000 for x in range(n)]\n",
    "#making the B matrix\n",
    "Z=[create_z_matrix(j,n,k) for j in range(1,n+1)]\n",
    "I=np.ones((n*k,n*k))\n",
    "B_=g[0]*np.matmul(np.matmul(Z[0],I),Z[0])\n",
    "for j in range(1,n):\n",
    "    B_=B_+g[j]*np.matmul(np.matmul(Z[j],I),Z[j])\n",
    "G=np.diag(np.concatenate([g for i in range(k)]))\n",
    "third_term=B_-2*G\n",
    "\n",
    "#defining the Q dictionary which will be submitted to the sampler\n",
    "Q=first_term+second_term+third_term\n",
    "Q_dict={}\n",
    "for i in range(n*k):\n",
    "    for j in range(n*k):\n",
    "        Q_dict[(i,j)]=Q[i,j]\n",
    "\n",
    "# ------- Run our QUBO on the QPU -------\n",
    "\n",
    "# Set chain strength\n",
    "chain_strength = gamma*n\n",
    "\n",
    "# Run the QUBO on the solver from your config file\n",
    "sampler = EmbeddingComposite(DWaveSampler())\n",
    "response = sampler.sample_qubo(Q_dict,\n",
    "                               chain_strength=chain_strength,\n",
    "                               num_reads=num_reads,\n",
    "                               label='Example - Graph Partitioning')\n",
    "                            \n",
    "\n",
    "# See if the best solution found is feasible, and if so print the number of cut edges.\n",
    "sample = response.record.sample[0]\n",
    "\n",
    "'''# In the case when n is odd, the set may have one more or one fewer nodes\n",
    "if sum(sample) in [math.floor(len(G.nodes)/2), math.ceil(len(G.nodes)/2)]:\n",
    "    num_cut_edges = 0\n",
    "    for u, v in G.edges:\n",
    "        num_cut_edges += sample[u] + sample[v] - 2*sample[u]*sample[v]\n",
    "    print(\"Valid partition found with\", num_cut_edges, \"cut edges.\")\n",
    "else:\n",
    "    print(\"Invalid partition.\")'''\n",
    "\n",
    "#coloring the graph into segments\n",
    "segment_colors=['red','green','blue','orange'] #we should put in as many colors as number of segments\n",
    "color_map=[]\n",
    "valid_nodes=0\n",
    "for node in Graph:\n",
    "    node_assignment=0\n",
    "    for j in range(k):\n",
    "        #print(node+(j*n))\n",
    "        node_assignment+=sample[node+(j*n)]\n",
    "        if (sample[node+(j*n)]==1):\n",
    "            color_map.append(segment_colors[j]) \n",
    "    print('Node{}:{}'.format(node,node_assignment))   \n",
    "    if(node_assignment==1):\n",
    "        valid_nodes+=1\n",
    "print(\"{} nodes have been legitimately sorted into segments\".format(valid_nodes))\n",
    "\n",
    "nx.draw(Graph,node_color=color_map,with_labels=True)\n",
    "plt.show()\n",
    "plt.savefig('output.png')\n"
   ]
  },
  {
   "cell_type": "code",
   "execution_count": 3,
   "id": "69042c96",
   "metadata": {},
   "outputs": [
    {
     "name": "stdout",
     "output_type": "stream",
     "text": [
      "Requirement already satisfied: pip in c:\\users\\aryan\\appdata\\local\\programs\\python\\python310\\lib\\site-packages (22.1.1)\n",
      "Collecting pip\n",
      "  Downloading pip-23.3.2-py3-none-any.whl (2.1 MB)\n",
      "     ---------------------------------------- 2.1/2.1 MB 4.5 MB/s eta 0:00:00\n",
      "Installing collected packages: pip\n",
      "  Attempting uninstall: pip\n",
      "    Found existing installation: pip 22.1.1\n",
      "    Uninstalling pip-22.1.1:\n",
      "      Successfully uninstalled pip-22.1.1\n",
      "Successfully installed pip-23.3.2\n",
      "Note: you may need to restart the kernel to use updated packages.\n"
     ]
    }
   ],
   "source": [
    "pip install --upgrade pip\n"
   ]
  },
  {
   "cell_type": "code",
   "execution_count": null,
   "id": "9073ccbd",
   "metadata": {},
   "outputs": [],
   "source": []
  }
 ],
 "metadata": {
  "kernelspec": {
   "display_name": "Python 3 (ipykernel)",
   "language": "python",
   "name": "python3"
  },
  "language_info": {
   "codemirror_mode": {
    "name": "ipython",
    "version": 3
   },
   "file_extension": ".py",
   "mimetype": "text/x-python",
   "name": "python",
   "nbconvert_exporter": "python",
   "pygments_lexer": "ipython3",
   "version": "3.10.1"
  }
 },
 "nbformat": 4,
 "nbformat_minor": 5
}
